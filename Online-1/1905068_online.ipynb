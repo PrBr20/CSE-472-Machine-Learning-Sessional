{
 "cells": [
  {
   "cell_type": "code",
   "execution_count": 88,
   "metadata": {},
   "outputs": [
    {
     "name": "stdout",
     "output_type": "stream",
     "text": [
      "Requirement already satisfied: numpy in /media/rauzaruk/HDD/CSE-472-Machine-Learning-Sessional/.env/lib/python3.12/site-packages (2.1.0)\n",
      "Requirement already satisfied: pandas in /media/rauzaruk/HDD/CSE-472-Machine-Learning-Sessional/.env/lib/python3.12/site-packages (2.2.2)\n",
      "Requirement already satisfied: matplotlib in /media/rauzaruk/HDD/CSE-472-Machine-Learning-Sessional/.env/lib/python3.12/site-packages (3.9.2)\n",
      "Requirement already satisfied: seaborn in /media/rauzaruk/HDD/CSE-472-Machine-Learning-Sessional/.env/lib/python3.12/site-packages (0.13.2)\n",
      "Requirement already satisfied: scikit-learn in /media/rauzaruk/HDD/CSE-472-Machine-Learning-Sessional/.env/lib/python3.12/site-packages (1.5.1)\n",
      "Requirement already satisfied: python-dateutil>=2.8.2 in /media/rauzaruk/HDD/CSE-472-Machine-Learning-Sessional/.env/lib/python3.12/site-packages (from pandas) (2.9.0.post0)\n",
      "Requirement already satisfied: pytz>=2020.1 in /media/rauzaruk/HDD/CSE-472-Machine-Learning-Sessional/.env/lib/python3.12/site-packages (from pandas) (2024.1)\n",
      "Requirement already satisfied: tzdata>=2022.7 in /media/rauzaruk/HDD/CSE-472-Machine-Learning-Sessional/.env/lib/python3.12/site-packages (from pandas) (2024.1)\n",
      "Requirement already satisfied: contourpy>=1.0.1 in /media/rauzaruk/HDD/CSE-472-Machine-Learning-Sessional/.env/lib/python3.12/site-packages (from matplotlib) (1.3.0)\n",
      "Requirement already satisfied: cycler>=0.10 in /media/rauzaruk/HDD/CSE-472-Machine-Learning-Sessional/.env/lib/python3.12/site-packages (from matplotlib) (0.12.1)\n",
      "Requirement already satisfied: fonttools>=4.22.0 in /media/rauzaruk/HDD/CSE-472-Machine-Learning-Sessional/.env/lib/python3.12/site-packages (from matplotlib) (4.53.1)\n",
      "Requirement already satisfied: kiwisolver>=1.3.1 in /media/rauzaruk/HDD/CSE-472-Machine-Learning-Sessional/.env/lib/python3.12/site-packages (from matplotlib) (1.4.6)\n",
      "Requirement already satisfied: packaging>=20.0 in /media/rauzaruk/HDD/CSE-472-Machine-Learning-Sessional/.env/lib/python3.12/site-packages (from matplotlib) (24.1)\n",
      "Requirement already satisfied: pillow>=8 in /media/rauzaruk/HDD/CSE-472-Machine-Learning-Sessional/.env/lib/python3.12/site-packages (from matplotlib) (10.4.0)\n",
      "Requirement already satisfied: pyparsing>=2.3.1 in /media/rauzaruk/HDD/CSE-472-Machine-Learning-Sessional/.env/lib/python3.12/site-packages (from matplotlib) (3.1.4)\n",
      "Requirement already satisfied: scipy>=1.6.0 in /media/rauzaruk/HDD/CSE-472-Machine-Learning-Sessional/.env/lib/python3.12/site-packages (from scikit-learn) (1.14.1)\n",
      "Requirement already satisfied: joblib>=1.2.0 in /media/rauzaruk/HDD/CSE-472-Machine-Learning-Sessional/.env/lib/python3.12/site-packages (from scikit-learn) (1.4.2)\n",
      "Requirement already satisfied: threadpoolctl>=3.1.0 in /media/rauzaruk/HDD/CSE-472-Machine-Learning-Sessional/.env/lib/python3.12/site-packages (from scikit-learn) (3.5.0)\n",
      "Requirement already satisfied: six>=1.5 in /media/rauzaruk/HDD/CSE-472-Machine-Learning-Sessional/.env/lib/python3.12/site-packages (from python-dateutil>=2.8.2->pandas) (1.16.0)\n"
     ]
    }
   ],
   "source": [
    "! pip install numpy pandas matplotlib seaborn scikit-learn "
   ]
  },
  {
   "cell_type": "code",
   "execution_count": 89,
   "metadata": {},
   "outputs": [],
   "source": [
    "import numpy as np\n",
    "import pandas as pd\n",
    "from sklearn.model_selection import train_test_split\n",
    "import seaborn as sns\n",
    "import matplotlib.pyplot as plt\n",
    "\n",
    "np.random.seed(42)"
   ]
  },
  {
   "cell_type": "markdown",
   "metadata": {},
   "source": [
    "## Custom Logistic Regression Class"
   ]
  },
  {
   "cell_type": "code",
   "execution_count": 90,
   "metadata": {},
   "outputs": [],
   "source": [
    "# custom logistic regression class\n",
    "class MyLogisticRegression:\n",
    "\n",
    "    def __init__(self, n_features, lr=0.1, n_iters=1000, threshold=0):\n",
    "        self.n_features = n_features\n",
    "        self.lr = lr\n",
    "        self.n_iters = n_iters\n",
    "        self.weights = np.random.randn(n_features+1)\n",
    "        self.threshold = threshold \n",
    "\n",
    "    def _sigmoid(self, x):\n",
    "        return 1 / (1 + np.exp(-x))\n",
    "\n",
    "    def _cost(self, X, y):\n",
    "        y_pred = self._sigmoid(X @ self.weights)\n",
    "        cost = -(y * np.log(y_pred) + (1 - y) * np.log(1 - y_pred)) / len(y)\n",
    "        return cost\n",
    "\n",
    "    def _gradient(self, X, y):\n",
    "        y_pred = self._sigmoid(X @ self.weights)\n",
    "        gradient = X.T @ (y_pred - y) / len(y)\n",
    "        return gradient\n",
    "\n",
    "    def fit(self, X, y):\n",
    "        X_df = pd.DataFrame(X)  # Convert numpy array to DataFrame\n",
    "        correlations = X_df.corrwith(pd.Series(y))  # Calculate correlation with y\n",
    "        self.selected_features = correlations.abs().nlargest(self.n_features).index\n",
    "        X = X[:, self.selected_features]\n",
    "\n",
    "        # Adding the bias coloumn\n",
    "        X = np.concatenate([X, np.ones((X.shape[0], 1))], axis=1)\n",
    "\n",
    "        for i in range(self.n_iters):\n",
    "            self.weights -= self.lr * self._gradient(X, y)\n",
    "            loss = self._cost(X, y).mean()\n",
    "            # terminate early if loss is less than threshold\n",
    "            if loss < self.threshold:\n",
    "                break\n",
    "\n",
    "\n",
    "    def predict(self, X):\n",
    "\n",
    "        if self.selected_features is None:\n",
    "            raise Exception(\"Model is not trained yet. Please call fit method first.\")\n",
    "\n",
    "        # select the features\n",
    "        X = X[:, self.selected_features]\n",
    "        \n",
    "        # Add column for bias\n",
    "        X = np.concatenate([X, np.ones((X.shape[0], 1))], axis=1)\n",
    "\n",
    "        y_pred = self._sigmoid(X @ self.weights)\n",
    "        y_pred = np.round(y_pred).astype(int)\n",
    "        return y_pred\n",
    "        "
   ]
  },
  {
   "cell_type": "markdown",
   "metadata": {},
   "source": [
    "## Custom Bagging Classifier"
   ]
  },
  {
   "cell_type": "code",
   "execution_count": 91,
   "metadata": {},
   "outputs": [],
   "source": [
    "# creating a class for bagging classifier using MyLogisticRegression\n",
    "class MyBaggingClassifier:\n",
    "    def __init__(self, n_estimators=9, n_features=None, threshold=0):\n",
    "        self.n_estimators = n_estimators\n",
    "        self.n_features = n_features\n",
    "        self.threshold = threshold\n",
    "\n",
    "    def fit(self, X, y):\n",
    "        self.models = []\n",
    "        for _ in range(self.n_estimators):\n",
    "            model = MyLogisticRegression(n_features=self.n_features, threshold=self.threshold)\n",
    "            indices = np.random.choice(X.shape[0], X.shape[0], replace=True)\n",
    "            model.fit(X[indices], y[indices])\n",
    "            self.models.append(model)\n",
    "    \n",
    "    def predict(self, X):\n",
    "        y_preds = []\n",
    "        # iterate through each model\n",
    "        for model in self.models:\n",
    "            # predict the output using the model\n",
    "            y_pred = model.predict(X)\n",
    "            y_preds.append(y_pred)\n",
    "        return y_preds\n"
   ]
  },
  {
   "cell_type": "markdown",
   "metadata": {},
   "source": [
    "## Custom Voting Classifier"
   ]
  },
  {
   "cell_type": "code",
   "execution_count": 92,
   "metadata": {},
   "outputs": [],
   "source": [
    "# creating a class for bagging classifier using MyLogisticRegression\n",
    "class MyVotingClassifier:\n",
    "    def __init__(self, n_estimators=9, n_features=None, threshold=0):\n",
    "        self.n_estimators = n_estimators\n",
    "        self.n_features = n_features\n",
    "        self.threshold = threshold\n",
    "\n",
    "    def fit(self, X, y):\n",
    "        self.models = []\n",
    "        for _ in range(self.n_estimators):\n",
    "            model = MyLogisticRegression(n_features=self.n_features, threshold=self.threshold)\n",
    "            indices = np.random.choice(X.shape[0], X.shape[0], replace=True)\n",
    "            model.fit(X[indices], y[indices])\n",
    "            self.models.append(model)\n",
    "\n",
    "    def predict(self, X):\n",
    "        y_preds = []\n",
    "        for model in self.models:\n",
    "            y_pred = model.predict(X)\n",
    "            y_preds.append(y_pred)\n",
    "        y_preds = np.array(y_preds)\n",
    "        return np.round(np.mean(y_preds, axis=0)).astype(int)\n",
    "    "
   ]
  },
  {
   "cell_type": "markdown",
   "metadata": {},
   "source": [
    "## Custom Stacking Class"
   ]
  },
  {
   "cell_type": "code",
   "execution_count": 93,
   "metadata": {},
   "outputs": [],
   "source": [
    "#creating a class for stacking classifier using MyLogisticRegression\n",
    "class MyStackingClassifier:\n",
    "    def __init__(self, n_estimators=9, n_features=None, threshold=0):\n",
    "        self.n_estimators = n_estimators\n",
    "        self.n_features = n_features\n",
    "        self.threshold = threshold\n",
    "\n",
    "    def fit(self, X, y):\n",
    "        # split the data into training and validation set\n",
    "        X_train, X_val, y_train, y_val = train_test_split(X, y, test_size=0.2)\n",
    "        \n",
    "        self.models = []\n",
    "        for _ in range(self.n_estimators):\n",
    "            model = MyLogisticRegression(n_features=self.n_features, threshold=self.threshold)\n",
    "            indices = np.random.choice(X_train.shape[0], X_train.shape[0], replace=True)\n",
    "            model.fit(X_train[indices], y_train[indices])\n",
    "            self.models.append(model)\n",
    "\n",
    "        X_pred = np.zeros((X_val.shape[0], len(self.models)))\n",
    "        for i, model in enumerate(self.models):\n",
    "            X_pred[:, i] = model.predict(X_val) \n",
    "\n",
    "        # adding the features of X to X_train\n",
    "        X_val = np.concatenate([X_val, X_pred], axis=1)\n",
    "\n",
    "        # meta model predicts by both previous features and base model predictions\n",
    "        self.meta_model = MyLogisticRegression(n_features=min(50, X_val.shape[1]), threshold=self.threshold)\n",
    "        self.meta_model.fit(X_val, y_val)\n",
    "\n",
    "    def predict(self, X):\n",
    "        X_test = np.zeros((X.shape[0], len(self.models)))\n",
    "        for i, model in enumerate(self.models):\n",
    "            X_test[:, i] = model.predict(X)\n",
    "        X_test = np.concatenate([X, X_test], axis=1)\n",
    "        return self.meta_model.predict(X_test)"
   ]
  },
  {
   "cell_type": "markdown",
   "metadata": {},
   "source": [
    "## Testing Metrics"
   ]
  },
  {
   "cell_type": "code",
   "execution_count": 94,
   "metadata": {},
   "outputs": [],
   "source": [
    "from sklearn.metrics import roc_auc_score, average_precision_score\n",
    "\n",
    "# create custom metrics functions\n",
    "def accuracy(y_true, y_pred):\n",
    "    return np.mean(y_true == y_pred)\n",
    "\n",
    "def sensitivity(y_true, y_pred):\n",
    "    return np.sum(y_true * y_pred) / np.sum(y_true)\n",
    "\n",
    "def specificity(y_true, y_pred):\n",
    "    return np.sum((1 - y_true) * (1 - y_pred)) / np.sum(1 - y_true)\n",
    "\n",
    "def precision(y_true, y_pred):\n",
    "    return np.sum(y_true * y_pred) / np.sum(y_pred)\n",
    "\n",
    "def recall(y_true, y_pred):\n",
    "    return np.sum(y_true * y_pred) / np.sum(y_true)\n",
    "\n",
    "def f1_score(y_true, y_pred):\n",
    "    p = precision(y_true, y_pred)\n",
    "    r = recall(y_true, y_pred)\n",
    "    return 2 * p * r / (p + r)\n",
    "\n",
    "def aupr(y_true, y_pred):\n",
    "    return average_precision_score(y_true, y_pred)\n",
    "\n",
    "def auroc(y_true, y_pred):\n",
    "    return roc_auc_score(y_true, y_pred)"
   ]
  },
  {
   "cell_type": "code",
   "execution_count": 95,
   "metadata": {},
   "outputs": [],
   "source": [
    "def report(y_true, y_pred):\n",
    "    acc = accuracy(y_true, y_pred)\n",
    "    sens = sensitivity(y_true, y_pred)\n",
    "    spec = specificity(y_true, y_pred)\n",
    "    prec = precision(y_true, y_pred)\n",
    "    f1 = f1_score(y_true, y_pred)\n",
    "    auroc_val = auroc(y_true, y_pred)\n",
    "    aupr_val = aupr(y_true, y_pred)\n",
    "    \n",
    "    # print the metrics with 4 decimal places after the point\n",
    "    print(f\"Accuracy: {acc:.4f}\")\n",
    "    print(f\"Sensitivity: {sens:.4f}\")\n",
    "    print(f\"Specificity: {spec:.4f}\")\n",
    "    print(f\"Precision: {prec:.4f}\")\n",
    "    print(f\"F1: {f1:.4f}\")\n",
    "    print(f\"AUROC: {auroc_val:.4f}\")\n",
    "    print(f\"AUPR: {aupr_val:.4f}\")"
   ]
  },
  {
   "cell_type": "code",
   "execution_count": 96,
   "metadata": {},
   "outputs": [],
   "source": [
    "def get_scores(y_true, y_pred):\n",
    "    acc = accuracy(y_true, y_pred)\n",
    "    sens = sensitivity(y_true, y_pred)\n",
    "    spec = specificity(y_true, y_pred)\n",
    "    prec = precision(y_true, y_pred)\n",
    "    f1 = f1_score(y_true, y_pred)\n",
    "    auroc_val = auroc(y_true, y_pred)\n",
    "    aupr_val = aupr(y_true, y_pred)\n",
    "    \n",
    "    return acc, sens, spec, prec, f1, auroc_val, aupr_val"
   ]
  },
  {
   "cell_type": "markdown",
   "metadata": {},
   "source": [
    "## Preprocessing Dataset 4"
   ]
  },
  {
   "cell_type": "code",
   "execution_count": 97,
   "metadata": {},
   "outputs": [
    {
     "name": "stdout",
     "output_type": "stream",
     "text": [
      "<class 'pandas.core.frame.DataFrame'>\n",
      "RangeIndex: 3000 entries, 0 to 2999\n",
      "Data columns (total 3 columns):\n",
      " #   Column  Non-Null Count  Dtype  \n",
      "---  ------  --------------  -----  \n",
      " 0   X1      3000 non-null   float64\n",
      " 1   X2      3000 non-null   float64\n",
      " 2   y       3000 non-null   int64  \n",
      "dtypes: float64(2), int64(1)\n",
      "memory usage: 70.4 KB\n",
      "Missing Values :  X1    0\n",
      "X2    0\n",
      "y     0\n",
      "dtype: int64\n",
      "Duplicate Rows :  0\n",
      "y [1 0]\n"
     ]
    }
   ],
   "source": [
    "# load the dataset\n",
    "df= pd.read_csv('datasets/B1.csv')\n",
    "\n",
    "df.info()\n",
    "\n",
    "# finding missing values\n",
    "print('Missing Values : ', df.isnull().sum())\n",
    "\n",
    "# finding duplicate rows\n",
    "print('Duplicate Rows : ',df.duplicated().sum())\n",
    "\n",
    "for column in df.columns:\n",
    "    if df[column].dtype == 'int64':\n",
    "        print(column, df[column].unique())\n",
    "\n",
    "# # fit to the training data\n",
    "X = df.drop(['y'], axis=1).values\n",
    "\n",
    "y = df['y'].values"
   ]
  },
  {
   "cell_type": "markdown",
   "metadata": {},
   "source": [
    "## Testing Any Dataset"
   ]
  },
  {
   "cell_type": "code",
   "execution_count": 98,
   "metadata": {},
   "outputs": [
    {
     "name": "stdout",
     "output_type": "stream",
     "text": [
      "Testing with Bagging Classifier\n"
     ]
    },
    {
     "name": "stderr",
     "output_type": "stream",
     "text": [
      "/tmp/ipykernel_4896/3841752581.py:14: RuntimeWarning: invalid value encountered in scalar divide\n",
      "  return np.sum(y_true * y_pred) / np.sum(y_pred)\n"
     ]
    },
    {
     "name": "stdout",
     "output_type": "stream",
     "text": [
      "accuracy: 0.4867 +- 0.0399\n",
      "sensitivity: 0.5673 +- 0.3537\n",
      "specificity: 0.4044 +- 0.3181\n",
      "precision: nan +- nan\n",
      "f1: nan +- nan\n",
      "auroc: 0.4859 +- 0.0382\n",
      "aupr: 0.5006 +- 0.0145\n"
     ]
    },
    {
     "data": {
      "image/png": "[encoded data removed]",
      "text/plain": [
       "<Figure size 1000x500 with 1 Axes>"
      ]
     },
     "metadata": {},
     "output_type": "display_data"
    },
    {
     "name": "stdout",
     "output_type": "stream",
     "text": [
      "Testing with Voting Classifier\n",
      "Accuracy: 0.5833\n",
      "Sensitivity: 0.8449\n",
      "Specificity: 0.3165\n",
      "Precision: 0.5577\n",
      "F1: 0.6719\n",
      "AUROC: 0.5807\n",
      "AUPR: 0.5496\n",
      "Testing with Stacking Classifier\n",
      "Accuracy: 0.8117\n",
      "Sensitivity: 0.9571\n",
      "Specificity: 0.6633\n",
      "Precision: 0.7436\n",
      "F1: 0.8369\n",
      "AUROC: 0.8102\n",
      "AUPR: 0.7334\n"
     ]
    },
    {
     "name": "stderr",
     "output_type": "stream",
     "text": [
      "/media/rauzaruk/HDD/CSE-472-Machine-Learning-Sessional/.env/lib/python3.12/site-packages/numpy/lib/_function_base_impl.py:2999: RuntimeWarning: invalid value encountered in divide\n",
      "  c /= stddev[:, None]\n",
      "/media/rauzaruk/HDD/CSE-472-Machine-Learning-Sessional/.env/lib/python3.12/site-packages/numpy/lib/_function_base_impl.py:3000: RuntimeWarning: invalid value encountered in divide\n",
      "  c /= stddev[None, :]\n"
     ]
    }
   ],
   "source": [
    "# Testing with Bagging Classifier\n",
    "print(\"Testing with Bagging Classifier\")\n",
    "model = MyBaggingClassifier(n_estimators=9, n_features=min(50, X.shape[1]), threshold=0)\n",
    "\n",
    "metrics = {\n",
    "    'accuracy': [],\n",
    "    'sensitivity': [],\n",
    "    'specificity': [],\n",
    "    'precision': [],\n",
    "    'f1': [],\n",
    "    'auroc': [],\n",
    "    'aupr': []\n",
    "}\n",
    "\n",
    "# train the models\n",
    "model.fit(X_train, y_train)\n",
    "y_preds = model.predict(X_test)\n",
    "\n",
    "for y_pred in y_preds:\n",
    "    acc, sens, spec, prec, f1, auroc_val, aupr_val = get_scores(y_test, y_pred)\n",
    "    metrics['accuracy'].append(acc)\n",
    "    metrics['sensitivity'].append(sens)\n",
    "    metrics['specificity'].append(spec)\n",
    "    metrics['precision'].append(prec)\n",
    "    metrics['f1'].append(f1)\n",
    "    metrics['auroc'].append(auroc_val)\n",
    "    metrics['aupr'].append(aupr_val)\n",
    "\n",
    "# print each metric +- standard deviation\n",
    "for metric, values in metrics.items():\n",
    "    print(f\"{metric}: {np.mean(values):.4f} +- {np.std(values):.4f}\")\n",
    "\n",
    "\n",
    "# create violin plots for each metric\n",
    "plt.figure(figsize=(10, 5))\n",
    "sns.violinplot(data=pd.DataFrame(metrics))\n",
    "plt.ylabel('Value')\n",
    "plt.xlabel('Metric')\n",
    "plt.title('Violin Plot of Metrics')\n",
    "plt.show()\n",
    "\n",
    "# model 0 done\n",
    "\n",
    "# Testing with Voting Classifier\n",
    "print(\"Testing with Voting Classifier\")\n",
    "\n",
    "model = MyVotingClassifier(n_estimators=9, n_features=min(50, X.shape[1]), threshold=0)\n",
    "\n",
    "# train the model\n",
    "model.fit(X_train, y_train)\n",
    "y_pred = model.predict(X_test)\n",
    "report(y_test, y_pred)\n",
    "\n",
    "# Testing with Stacking Classifier\n",
    "print(\"Testing with Stacking Classifier\")\n",
    "\n",
    "model = MyStackingClassifier(n_estimators=9, n_features=min(50, X.shape[1]), threshold=0)\n",
    "\n",
    "# train the model\n",
    "model.fit(X_train, y_train)\n",
    "y_pred = model.predict(X_test)\n",
    "report(y_test, y_pred)"
   ]
  }
 ],
 "metadata": {
  "kernelspec": {
   "display_name": ".env",
   "language": "python",
   "name": "python3"
  },
  "language_info": {
   "codemirror_mode": {
    "name": "ipython",
    "version": 3
   },
   "file_extension": ".py",
   "mimetype": "text/x-python",
   "name": "python",
   "nbconvert_exporter": "python",
   "pygments_lexer": "ipython3",
   "version": "3.12.3"
  }
 },
 "nbformat": 4,
 "nbformat_minor": 2
}
